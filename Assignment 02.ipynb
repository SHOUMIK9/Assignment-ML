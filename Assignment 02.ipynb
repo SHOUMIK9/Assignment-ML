{
 "cells": [
  {
   "cell_type": "markdown",
   "id": "db79e324",
   "metadata": {},
   "source": [
    "# 1. Write a program that swaps the values of two variables."
   ]
  },
  {
   "cell_type": "code",
   "execution_count": 1,
   "id": "57173854",
   "metadata": {},
   "outputs": [
    {
     "name": "stdout",
     "output_type": "stream",
     "text": [
      "x= 20\n",
      "y= 10\n"
     ]
    }
   ],
   "source": [
    "x=10\n",
    "y=20\n",
    "\n",
    "print('x=',y)\n",
    "print('y=',x)"
   ]
  },
  {
   "cell_type": "markdown",
   "id": "55790b70",
   "metadata": {},
   "source": [
    "# 2. Write a program that calculates the area of a rectangle given its length and width"
   ]
  },
  {
   "cell_type": "code",
   "execution_count": null,
   "id": "b67ec4b2",
   "metadata": {},
   "outputs": [],
   "source": [
    "int (input('Length ='))\n",
    "int (input('Width ='))\n",
    "print('Area of rectangle', (x*y))"
   ]
  },
  {
   "cell_type": "markdown",
   "id": "79840201",
   "metadata": {},
   "source": [
    "# 3. Write a program that converts temperature from Fahrenheit to Celsius."
   ]
  },
  {
   "cell_type": "code",
   "execution_count": 2,
   "id": "f569e954",
   "metadata": {},
   "outputs": [
    {
     "name": "stdout",
     "output_type": "stream",
     "text": [
      "Temperature F=150\n",
      "Temperature C= 65.55555555555556\n"
     ]
    }
   ],
   "source": [
    "x=int(input('Temperature F='))\n",
    "y= (x-32)*5/9\n",
    "print('Temperature C=',y)"
   ]
  },
  {
   "cell_type": "markdown",
   "id": "dfc6d638",
   "metadata": {},
   "source": [
    "# 4. Write a program that calculates the volume of a sphere given its radius"
   ]
  },
  {
   "cell_type": "code",
   "execution_count": null,
   "id": "66b071e4",
   "metadata": {},
   "outputs": [],
   "source": [
    "x=int(input('Radius= '))\n",
    "y= (4/3)*3.1416*(pow (x,3))\n",
    "print('Volume of sphere =',y)"
   ]
  },
  {
   "cell_type": "markdown",
   "id": "262b8423",
   "metadata": {},
   "source": [
    "# 5. Write a program that finds the average of three numbers."
   ]
  },
  {
   "cell_type": "code",
   "execution_count": null,
   "id": "cfefda77",
   "metadata": {},
   "outputs": [],
   "source": [
    "x=float(input('1st number='))\n",
    "y=float(input('1st number='))\n",
    "z=float(input('1st number='))\n",
    "print('Average',((x+y+z)/3))"
   ]
  },
  {
   "cell_type": "markdown",
   "id": "2bb372a4",
   "metadata": {},
   "source": [
    "# 6. Write a program that determines if a number is even or odd."
   ]
  },
  {
   "cell_type": "code",
   "execution_count": null,
   "id": "431f343c",
   "metadata": {},
   "outputs": [],
   "source": [
    "x=int(input())\n",
    "if x%2==0:\n",
    "    print('Even')\n",
    "else:\n",
    "    print('Odd')"
   ]
  },
  {
   "cell_type": "markdown",
   "id": "45537e2b",
   "metadata": {},
   "source": [
    "# 7. Write a program that finds the maximum of three numbers"
   ]
  },
  {
   "cell_type": "code",
   "execution_count": 3,
   "id": "d0a010d2",
   "metadata": {},
   "outputs": [
    {
     "name": "stdout",
     "output_type": "stream",
     "text": [
      "1st number = 85\n",
      "2nd number = 63\n",
      "3rd number = 10\n",
      "x is greater \n"
     ]
    }
   ],
   "source": [
    "x=float(input('1st number,x = '))\n",
    "y=float(input('2nd number,y = '))\n",
    "z=float(input('3rd number,z = '))\n",
    "\n",
    "if x>y and x>z:\n",
    "    print('x is greater ')\n",
    "elif y>x and y>z:\n",
    "        print('y is greater')\n",
    "elif x==y==z:\n",
    "            print('All the numbers are equal')\n",
    "else:\n",
    "     print('z is greater')"
   ]
  },
  {
   "cell_type": "markdown",
   "id": "6c9f8c98",
   "metadata": {},
   "source": [
    "# 8. Write a program that determines if a year is a leap year or not"
   ]
  },
  {
   "cell_type": "code",
   "execution_count": 5,
   "id": "f2ec847d",
   "metadata": {},
   "outputs": [
    {
     "name": "stdout",
     "output_type": "stream",
     "text": [
      "2012\n",
      "2012 is leap year\n"
     ]
    }
   ],
   "source": [
    "x=int(input())\n",
    "if x%4==0:\n",
    "    print('{} is leap year'.format(x))\n",
    "else:\n",
    "    print('{} is not a leap year'.format(x))"
   ]
  },
  {
   "cell_type": "markdown",
   "id": "67de9500",
   "metadata": {},
   "source": [
    "# 9. Write a program that determines if a number is positive, negative, or zero."
   ]
  },
  {
   "cell_type": "code",
   "execution_count": null,
   "id": "ec23ea37",
   "metadata": {},
   "outputs": [],
   "source": [
    "x=float(input('Number = '))\n",
    "if x>=0:\n",
    "    print('Its positive ')\n",
    "elif x==0:\n",
    "    print('Its zero')\n",
    "else:\n",
    "    print( 'Its negative ')"
   ]
  },
  {
   "cell_type": "markdown",
   "id": "77da02f4",
   "metadata": {},
   "source": [
    "# 10. Write a program that calculates the grade based on a given percentage."
   ]
  },
  {
   "cell_type": "code",
   "execution_count": null,
   "id": "f768b328",
   "metadata": {},
   "outputs": [],
   "source": [
    "x=int(input('Percentage='))\n",
    "if x>=80:\n",
    "            print('Grade= A+')\n",
    "elif x>=70 and x<80:\n",
    "            print('Grade= A')\n",
    "elif x>=60 and x<70:\n",
    "            print('Grade= A-')\n",
    "elif x>=50 and x<60:\n",
    "            print('Grade= B')\n",
    "elif x>=40 and x<50:\n",
    "            print('Grade= C')\n",
    "elif x>=33 and x<40:\n",
    "            print('Grade= D')\n",
    "else:\n",
    "            print('Grade= F')"
   ]
  },
  {
   "cell_type": "markdown",
   "id": "fcbcb2f2",
   "metadata": {},
   "source": [
    "# 11. Write a program that prints the first `n` natural numbers"
   ]
  },
  {
   "cell_type": "code",
   "execution_count": null,
   "id": "b827087d",
   "metadata": {},
   "outputs": [],
   "source": [
    "x=int(input('Please enter any number '))\n",
    "print('List of natural number from 1 to {}='.format(x))\n",
    "\n",
    "for i in range (1,x+1):\n",
    "    print(i)\n"
   ]
  },
  {
   "cell_type": "markdown",
   "id": "da4802f7",
   "metadata": {},
   "source": [
    "# 12. Write a program that calculates the factorial of a number."
   ]
  },
  {
   "cell_type": "code",
   "execution_count": null,
   "id": "5290d671",
   "metadata": {},
   "outputs": [],
   "source": [
    "n = int (input (\"Enter a number: \"))\n",
    "factorial = 1\n",
    "for i in range (1, n+1):\n",
    "        factorial=factorial *i\n",
    "print(\"Factorial of the given number is: \", factorial)"
   ]
  },
  {
   "cell_type": "markdown",
   "id": "b1711472",
   "metadata": {},
   "source": [
    "# 13. Write a program that generates a Fibonacci sequence of length `n"
   ]
  },
  {
   "cell_type": "code",
   "execution_count": null,
   "id": "3a8fc883",
   "metadata": {},
   "outputs": [],
   "source": [
    "a, b = 0, 1\n",
    "x = int(input('Enter the length of series =')) \n",
    "print(a, b, end=' ')\n",
    "for i in range(x):\n",
    "    c = a + b\n",
    "    print(c, end=' ')\n",
    "    a = b\n",
    "    b = c"
   ]
  },
  {
   "cell_type": "markdown",
   "id": "31b8c53e",
   "metadata": {},
   "source": [
    "# 14. Write a program that checks if a given number is prime or not"
   ]
  },
  {
   "cell_type": "code",
   "execution_count": null,
   "id": "60c5f676",
   "metadata": {},
   "outputs": [],
   "source": [
    "num = int(input('Please insert a number='))\n",
    "if num > 1:\n",
    "    for i in range(2, int(num/2)+1):\n",
    "        if (num % i) == 0:\n",
    "            print(num, \"is not a prime number\")\n",
    "            break\n",
    "    else:\n",
    "        print(num, \"is a prime number\")\n",
    "else:\n",
    "    print(num, \"is not a prime number\")"
   ]
  },
  {
   "cell_type": "markdown",
   "id": "4fa1aa8f",
   "metadata": {},
   "source": [
    "# 15. Write a program that prints the multiplication table of a given number"
   ]
  },
  {
   "cell_type": "code",
   "execution_count": null,
   "id": "ad691ccc",
   "metadata": {},
   "outputs": [],
   "source": [
    "x = int(input(\"Enter the number you want to generate a multiplication table for: \"))\n",
    "for i in range(1,11):\n",
    "    result = x * i\n",
    "    print(x,\" * \",i,\" = \",result)"
   ]
  },
  {
   "cell_type": "markdown",
   "id": "111586c2",
   "metadata": {},
   "source": [
    "# 16. Write a program that finds the sum of all even numbers between 1 and `n`"
   ]
  },
  {
   "cell_type": "code",
   "execution_count": null,
   "id": "f66691cb",
   "metadata": {},
   "outputs": [],
   "source": [
    "num = int(input('Enter a number: '))\n",
    "sum = 0\n",
    "i = 1\n",
    "while i <= num:\n",
    "    if i % 2 == 0:\n",
    "        print(i)\n",
    "        sum+=i\n",
    "    i+=1\n",
    "print(f\"Sum of all the even numbers is {sum}\")"
   ]
  },
  {
   "cell_type": "markdown",
   "id": "fdd295e8",
   "metadata": {},
   "source": [
    "# 17. Write a program that reverses a given number"
   ]
  },
  {
   "cell_type": "code",
   "execution_count": null,
   "id": "673eb743",
   "metadata": {},
   "outputs": [],
   "source": [
    "number = int(input(\"Enter the number: \"))  \n",
    "  \n",
    "revs_number = 0  \n",
    "  \n",
    "while (number > 0):  \n",
    "    digit = number % 10  \n",
    "    revs_number = (revs_number * 10) + digit  \n",
    "    number = number // 10  \n",
    "  \n",
    "print(\"The reverse number is :\",revs_number) "
   ]
  },
  {
   "cell_type": "markdown",
   "id": "9c8dc83a",
   "metadata": {},
   "source": [
    "# 18. Write a program that checks if a given string is a palindrome"
   ]
  },
  {
   "cell_type": "code",
   "execution_count": null,
   "id": "d1e069db",
   "metadata": {},
   "outputs": [],
   "source": [
    "string=input((\"Enter a string:\"))\n",
    "if(string==string[::-1]):\n",
    "      print(\"The string is a palindrome\")\n",
    "else:\n",
    "      print(\"Not a palindrome\")"
   ]
  },
  {
   "cell_type": "markdown",
   "id": "583cdaa5",
   "metadata": {},
   "source": [
    "# 19. Write a program that generates a random number and allows the user to guess it"
   ]
  },
  {
   "cell_type": "code",
   "execution_count": null,
   "id": "792625df",
   "metadata": {},
   "outputs": [],
   "source": [
    "\n",
    "import random\n",
    "\n",
    "number = random.randint(1,100)\n",
    "\n",
    "guess = 0\n",
    "\n",
    "while guess != number:\n",
    "  \n",
    "  guess = int(input(\"Enter Guess: \"))\n",
    "  \n",
    "  if (guess < number):\n",
    "    print(\"Guess higher!\")\n",
    "  elif (guess > number):\n",
    "    print(\"Guess lower!\")\n",
    "  else:\n",
    "    print(\"You won!\")"
   ]
  },
  {
   "cell_type": "markdown",
   "id": "234055f8",
   "metadata": {},
   "source": [
    "# 20. Write a program that finds the greatest common divisor (GCD) of two numbers"
   ]
  },
  {
   "cell_type": "code",
   "execution_count": null,
   "id": "bea30f00",
   "metadata": {},
   "outputs": [],
   "source": [
    "num1 = int(input('Enter 1st number'))\n",
    "num2 = int(input('Enter 2nd number'))\n",
    "a = num1\n",
    "b = num2\n",
    "\n",
    "while num1 != num2:\n",
    "    if num1 > num2:\n",
    "        num1 -= num2\n",
    "    else:\n",
    "        num2 -= num1\n",
    "\n",
    "print(\"GCD of\", a, \"and\", b, \"is\", num1)"
   ]
  },
  {
   "cell_type": "code",
   "execution_count": null,
   "id": "2d5ab431",
   "metadata": {},
   "outputs": [],
   "source": []
  },
  {
   "cell_type": "code",
   "execution_count": null,
   "id": "957d040f",
   "metadata": {},
   "outputs": [],
   "source": []
  },
  {
   "cell_type": "code",
   "execution_count": null,
   "id": "22219219",
   "metadata": {},
   "outputs": [],
   "source": []
  },
  {
   "cell_type": "code",
   "execution_count": null,
   "id": "19834b8b",
   "metadata": {},
   "outputs": [],
   "source": []
  }
 ],
 "metadata": {
  "kernelspec": {
   "display_name": "Python 3 (ipykernel)",
   "language": "python",
   "name": "python3"
  },
  "language_info": {
   "codemirror_mode": {
    "name": "ipython",
    "version": 3
   },
   "file_extension": ".py",
   "mimetype": "text/x-python",
   "name": "python",
   "nbconvert_exporter": "python",
   "pygments_lexer": "ipython3",
   "version": "3.11.5"
  }
 },
 "nbformat": 4,
 "nbformat_minor": 5
}
